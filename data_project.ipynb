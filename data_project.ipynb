{
 "cells": [
  {
   "cell_type": "code",
   "execution_count": 26,
   "metadata": {},
   "outputs": [],
   "source": [
    "from fredapi import Fred\n",
    "import pandas as pd\n",
    "import matplotlib.pyplot as plt"
   ]
  },
  {
   "cell_type": "code",
   "execution_count": 21,
   "metadata": {},
   "outputs": [
    {
     "data": {
      "text/html": [
       "<div>\n",
       "<style scoped>\n",
       "    .dataframe tbody tr th:only-of-type {\n",
       "        vertical-align: middle;\n",
       "    }\n",
       "\n",
       "    .dataframe tbody tr th {\n",
       "        vertical-align: top;\n",
       "    }\n",
       "\n",
       "    .dataframe thead th {\n",
       "        text-align: right;\n",
       "    }\n",
       "</style>\n",
       "<table border=\"1\" class=\"dataframe\">\n",
       "  <thead>\n",
       "    <tr style=\"text-align: right;\">\n",
       "      <th></th>\n",
       "      <th>Date</th>\n",
       "      <th>GDP</th>\n",
       "    </tr>\n",
       "  </thead>\n",
       "  <tbody>\n",
       "    <tr>\n",
       "      <th>0</th>\n",
       "      <td>1947-01-01</td>\n",
       "      <td>2182.681</td>\n",
       "    </tr>\n",
       "    <tr>\n",
       "      <th>1</th>\n",
       "      <td>1947-04-01</td>\n",
       "      <td>2176.892</td>\n",
       "    </tr>\n",
       "    <tr>\n",
       "      <th>2</th>\n",
       "      <td>1947-07-01</td>\n",
       "      <td>2172.432</td>\n",
       "    </tr>\n",
       "    <tr>\n",
       "      <th>3</th>\n",
       "      <td>1947-10-01</td>\n",
       "      <td>2206.452</td>\n",
       "    </tr>\n",
       "    <tr>\n",
       "      <th>4</th>\n",
       "      <td>1948-01-01</td>\n",
       "      <td>2239.682</td>\n",
       "    </tr>\n",
       "  </tbody>\n",
       "</table>\n",
       "</div>"
      ],
      "text/plain": [
       "        Date       GDP\n",
       "0 1947-01-01  2182.681\n",
       "1 1947-04-01  2176.892\n",
       "2 1947-07-01  2172.432\n",
       "3 1947-10-01  2206.452\n",
       "4 1948-01-01  2239.682"
      ]
     },
     "execution_count": 21,
     "metadata": {},
     "output_type": "execute_result"
    }
   ],
   "source": [
    "# only reference API file\n",
    "with open('api_key.txt', 'r') as file:\n",
    "    api_key = file.read().strip()\n",
    "\n",
    "# Initialize the Fred object with your API key\n",
    "fred = Fred(api_key=api_key)\n",
    "\n",
    "# Example: Get data for GDP\n",
    "\n",
    "# This is Real Gross Domestic Product\n",
    "gdp_data = fred.get_series('GDPC1')\n",
    "gdp_df = pd.DataFrame({'Date': gdp_data.index, 'GDP': gdp_data.values})\n",
    "\n",
    "# Print the first few data points\n",
    "len(gdp_df)\n",
    "gdp_df.head()"
   ]
  },
  {
   "cell_type": "code",
   "execution_count": 31,
   "metadata": {},
   "outputs": [
    {
     "name": "stdout",
     "output_type": "stream",
     "text": [
      "Case-Shiller U.S. National Home Price Index:\n",
      "        Date  CSUSHPINSA\n",
      "0 1975-01-01         NaN\n",
      "1 1975-02-01         NaN\n",
      "2 1975-03-01         NaN\n",
      "3 1975-04-01         NaN\n",
      "4 1975-05-01         NaN\n",
      "\n",
      "Existing Home Sales:\n",
      "        Date  EXHOSLUSM495S\n",
      "0 2023-01-01            NaN\n",
      "1 2023-02-01      4530000.0\n",
      "2 2023-03-01      4350000.0\n",
      "3 2023-04-01      4220000.0\n",
      "4 2023-05-01      4230000.0\n"
     ]
    },
    {
     "data": {
      "text/plain": [
       "14"
      ]
     },
     "execution_count": 31,
     "metadata": {},
     "output_type": "execute_result"
    }
   ],
   "source": [
    "# Get data for Unemployment Rate\n",
    "unemployment_data = fred.get_series('UNRATE')\n",
    "\n",
    "unemployment_data.head(5)\n",
    "\n",
    "#include data from FRED about average US housing prices ???\n",
    "\n",
    "housing_data = fred.get_series('CSUSHPISA')\n",
    "\n",
    "# Convert housing price data to DataFrame\n",
    "housing_df = pd.DataFrame({'Date': housing_data.index, 'Average US Housing Prices': housing_data.values})\n",
    "\n",
    "# Display the first 5 rows of the housing DataFrame\n",
    "housing_data.tail(100)\n",
    "\n",
    "# Example: Get data for Case-Shiller U.S. National Home Price Index\n",
    "csushpin_data = fred.get_series('CSUSHPINSA')\n",
    "\n",
    "# Convert data to DataFrame\n",
    "csushpin_df = pd.DataFrame({'Date': csushpin_data.index, 'CSUSHPINSA': csushpin_data.values})\n",
    "\n",
    "# Example: Get data for Existing Home Sales\n",
    "exhoslusm495s_data = fred.get_series('EXHOSLUSM495S')\n",
    "\n",
    "# Convert data to DataFrame\n",
    "exhoslusm495s_df = pd.DataFrame({'Date': exhoslusm495s_data.index, 'EXHOSLUSM495S': exhoslusm495s_data.values})\n",
    "\n",
    "print(\"Case-Shiller U.S. National Home Price Index:\")\n",
    "print(csushpin_df.head())\n",
    "print(\"\\nExisting Home Sales:\")\n",
    "print(exhoslusm495s_df.head())\n",
    "\n",
    "len(exhoslusm495s_df)"
   ]
  },
  {
   "cell_type": "code",
   "execution_count": 28,
   "metadata": {},
   "outputs": [
    {
     "name": "stdout",
     "output_type": "stream",
     "text": [
      "        Date  CPI\n",
      "0 1913-01-01  9.8\n",
      "1 1913-02-01  9.8\n",
      "2 1913-03-01  9.8\n",
      "3 1913-04-01  9.8\n",
      "4 1913-05-01  9.7\n"
     ]
    }
   ],
   "source": [
    "# Example: Get data for Consumer Price Index for All Urban Consumers: All Items\n",
    "cpi_data = fred.get_series('CPIAUCNS')\n",
    "\n",
    "# Convert CPI data to DataFrame\n",
    "cpi_df = pd.DataFrame({'Date': cpi_data.index, 'CPI': cpi_data.values})\n",
    "\n",
    "# Display the DataFrame\n",
    "print(cpi_df.head())"
   ]
  },
  {
   "cell_type": "code",
   "execution_count": 19,
   "metadata": {},
   "outputs": [
    {
     "data": {
      "text/html": [
       "<div>\n",
       "<style scoped>\n",
       "    .dataframe tbody tr th:only-of-type {\n",
       "        vertical-align: middle;\n",
       "    }\n",
       "\n",
       "    .dataframe tbody tr th {\n",
       "        vertical-align: top;\n",
       "    }\n",
       "\n",
       "    .dataframe thead th {\n",
       "        text-align: right;\n",
       "    }\n",
       "</style>\n",
       "<table border=\"1\" class=\"dataframe\">\n",
       "  <thead>\n",
       "    <tr style=\"text-align: right;\">\n",
       "      <th></th>\n",
       "      <th>Date</th>\n",
       "      <th>Unemployment Rate</th>\n",
       "    </tr>\n",
       "  </thead>\n",
       "  <tbody>\n",
       "    <tr>\n",
       "      <th>0</th>\n",
       "      <td>1948-01-01</td>\n",
       "      <td>3.4</td>\n",
       "    </tr>\n",
       "    <tr>\n",
       "      <th>1</th>\n",
       "      <td>1948-02-01</td>\n",
       "      <td>3.8</td>\n",
       "    </tr>\n",
       "    <tr>\n",
       "      <th>2</th>\n",
       "      <td>1948-03-01</td>\n",
       "      <td>4.0</td>\n",
       "    </tr>\n",
       "    <tr>\n",
       "      <th>3</th>\n",
       "      <td>1948-04-01</td>\n",
       "      <td>3.9</td>\n",
       "    </tr>\n",
       "    <tr>\n",
       "      <th>4</th>\n",
       "      <td>1948-05-01</td>\n",
       "      <td>3.5</td>\n",
       "    </tr>\n",
       "    <tr>\n",
       "      <th>...</th>\n",
       "      <td>...</td>\n",
       "      <td>...</td>\n",
       "    </tr>\n",
       "    <tr>\n",
       "      <th>909</th>\n",
       "      <td>2023-10-01</td>\n",
       "      <td>3.8</td>\n",
       "    </tr>\n",
       "    <tr>\n",
       "      <th>910</th>\n",
       "      <td>2023-11-01</td>\n",
       "      <td>3.7</td>\n",
       "    </tr>\n",
       "    <tr>\n",
       "      <th>911</th>\n",
       "      <td>2023-12-01</td>\n",
       "      <td>3.7</td>\n",
       "    </tr>\n",
       "    <tr>\n",
       "      <th>912</th>\n",
       "      <td>2024-01-01</td>\n",
       "      <td>3.7</td>\n",
       "    </tr>\n",
       "    <tr>\n",
       "      <th>913</th>\n",
       "      <td>2024-02-01</td>\n",
       "      <td>3.9</td>\n",
       "    </tr>\n",
       "  </tbody>\n",
       "</table>\n",
       "<p>914 rows × 2 columns</p>\n",
       "</div>"
      ],
      "text/plain": [
       "          Date  Unemployment Rate\n",
       "0   1948-01-01                3.4\n",
       "1   1948-02-01                3.8\n",
       "2   1948-03-01                4.0\n",
       "3   1948-04-01                3.9\n",
       "4   1948-05-01                3.5\n",
       "..         ...                ...\n",
       "909 2023-10-01                3.8\n",
       "910 2023-11-01                3.7\n",
       "911 2023-12-01                3.7\n",
       "912 2024-01-01                3.7\n",
       "913 2024-02-01                3.9\n",
       "\n",
       "[914 rows x 2 columns]"
      ]
     },
     "execution_count": 19,
     "metadata": {},
     "output_type": "execute_result"
    }
   ],
   "source": [
    "import pandas as pd\n",
    "from fredapi import Fred\n",
    "\n",
    "# Read API key from file\n",
    "with open('api_key.txt', 'r') as file:\n",
    "    api_key = file.read().strip()\n",
    "\n",
    "# Initialize fredapi with API key\n",
    "fred = Fred(api_key=api_key)\n",
    "\n",
    "# Example: Get data for Consumer Price Index for All Urban Consumers: All Items\n",
    "cpi_data = fred.get_series('CPIAUCNS')\n",
    "\n",
    "# Convert CPI data to DataFrame\n",
    "cpi_df = pd.DataFrame({'Date': cpi_data.index, 'CPI': cpi_data.values})\n",
    "\n",
    "# Example: Get data for Unemployment Rate\n",
    "unemployment_data = fred.get_series('UNRATE')\n",
    "\n",
    "# Convert unemployment data to DataFrame\n",
    "unemployment_df = pd.DataFrame({'Date': unemployment_data.index, 'Unemployment Rate': unemployment_data.values})\n",
    "\n",
    "# Display the first 5 rows of the unemployment DataFrame\n",
    "unemployment_df\n",
    "\n"
   ]
  },
  {
   "cell_type": "code",
   "execution_count": 27,
   "metadata": {},
   "outputs": [
    {
     "name": "stderr",
     "output_type": "stream",
     "text": [
      "/var/folders/m_/hsrsy1qs5f99lw7phnn4cqyr0000gn/T/ipykernel_4019/1081792545.py:2: SettingWithCopyWarning: \n",
      "A value is trying to be set on a copy of a slice from a DataFrame.\n",
      "Try using .loc[row_indexer,col_indexer] = value instead\n",
      "\n",
      "See the caveats in the documentation: https://pandas.pydata.org/pandas-docs/stable/user_guide/indexing.html#returning-a-view-versus-a-copy\n",
      "  unemployment_df['Date'] = pd.to_datetime(unemployment_df['Date'])\n"
     ]
    },
    {
     "data": {
      "image/png": "[encoded data removed]",
      "text/plain": [
       "<Figure size 1000x600 with 1 Axes>"
      ]
     },
     "metadata": {},
     "output_type": "display_data"
    }
   ],
   "source": [
    "# Convert 'Date' column to datetime\n",
    "unemployment_df['Date'] = pd.to_datetime(unemployment_df['Date'])\n",
    "\n",
    "# Filter data from 2018 onwards\n",
    "unemployment_df = unemployment_df[unemployment_df['Date'].dt.year >= 2018]\n",
    "\n",
    "# Plot the line graph\n",
    "plt.figure(figsize=(10, 6))\n",
    "plt.plot(unemployment_df['Date'], unemployment_df['Unemployment Rate'], marker='o', linestyle='-')\n",
    "plt.title('Unemployment Rate Trends (2018 - Present)')\n",
    "plt.xlabel('Date')\n",
    "plt.ylabel('Unemployment Rate')\n",
    "plt.grid(True)\n",
    "plt.xticks(rotation=45)\n",
    "plt.tight_layout()\n",
    "plt.show()"
   ]
  },
  {
   "cell_type": "code",
   "execution_count": 34,
   "metadata": {},
   "outputs": [
    {
     "data": {
      "text/plain": [
       "<Figure size 640x480 with 0 Axes>"
      ]
     },
     "metadata": {},
     "output_type": "display_data"
    }
   ],
   "source": [
    "plt.savefig('unemployment_rate_trends.png')"
   ]
  },
  {
   "cell_type": "code",
   "execution_count": 33,
   "metadata": {},
   "outputs": [
    {
     "data": {
      "text/plain": [
       "914"
      ]
     },
     "execution_count": 33,
     "metadata": {},
     "output_type": "execute_result"
    }
   ],
   "source": [
    "# Example: Get data for Civilian Labor Force Participation Rate\n",
    "civpart_data = fred.get_series('CIVPART')\n",
    "\n",
    "# Convert data to DataFrame\n",
    "civpart_df = pd.DataFrame({'Date': civpart_data.index, 'CIVPART': civpart_data.values})\n",
    "len(civpart_df)"
   ]
  },
  {
   "cell_type": "code",
   "execution_count": null,
   "metadata": {},
   "outputs": [],
   "source": []
  },
  {
   "cell_type": "code",
   "execution_count": null,
   "metadata": {},
   "outputs": [],
   "source": [
    "#scatterplot to check trends?"
   ]
  },
  {
   "cell_type": "code",
   "execution_count": null,
   "metadata": {},
   "outputs": [],
   "source": [
    "# Make a line Graph"
   ]
  },
  {
   "cell_type": "code",
   "execution_count": null,
   "metadata": {},
   "outputs": [],
   "source": [
    "# Make Correlation Table"
   ]
  },
  {
   "cell_type": "code",
   "execution_count": null,
   "metadata": {},
   "outputs": [],
   "source": [
    "# use something off google, maybe a picture?"
   ]
  }
 ],
 "metadata": {
  "kernelspec": {
   "display_name": "base",
   "language": "python",
   "name": "python3"
  },
  "language_info": {
   "codemirror_mode": {
    "name": "ipython",
    "version": 3
   },
   "file_extension": ".py",
   "mimetype": "text/x-python",
   "name": "python",
   "nbconvert_exporter": "python",
   "pygments_lexer": "ipython3",
   "version": "3.11.5"
  }
 },
 "nbformat": 4,
 "nbformat_minor": 2
}
