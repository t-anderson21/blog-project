{
 "cells": [
  {
   "cell_type": "code",
   "execution_count": 2,
   "metadata": {},
   "outputs": [
    {
     "name": "stdout",
     "output_type": "stream",
     "text": [
      "Collecting fredapi\n",
      "  Obtaining dependency information for fredapi from https://files.pythonhosted.org/packages/96/d4/f81fa9f67775a6a4b9e2cd8487239d61a9698cb2b9c02a5a2897d310f7a4/fredapi-0.5.1-py3-none-any.whl.metadata\n",
      "  Downloading fredapi-0.5.1-py3-none-any.whl.metadata (5.0 kB)\n",
      "Requirement already satisfied: pandas in /Users/talmageanderson/anaconda3/lib/python3.11/site-packages (from fredapi) (2.0.3)\n",
      "Requirement already satisfied: python-dateutil>=2.8.2 in /Users/talmageanderson/anaconda3/lib/python3.11/site-packages (from pandas->fredapi) (2.8.2)\n",
      "Requirement already satisfied: pytz>=2020.1 in /Users/talmageanderson/anaconda3/lib/python3.11/site-packages (from pandas->fredapi) (2023.3.post1)\n",
      "Requirement already satisfied: tzdata>=2022.1 in /Users/talmageanderson/anaconda3/lib/python3.11/site-packages (from pandas->fredapi) (2023.3)\n",
      "Requirement already satisfied: numpy>=1.21.0 in /Users/talmageanderson/anaconda3/lib/python3.11/site-packages (from pandas->fredapi) (1.24.3)\n",
      "Requirement already satisfied: six>=1.5 in /Users/talmageanderson/anaconda3/lib/python3.11/site-packages (from python-dateutil>=2.8.2->pandas->fredapi) (1.16.0)\n",
      "Downloading fredapi-0.5.1-py3-none-any.whl (11 kB)\n",
      "Installing collected packages: fredapi\n",
      "Successfully installed fredapi-0.5.1\n",
      "Note: you may need to restart the kernel to use updated packages.\n"
     ]
    }
   ],
   "source": [
    "pip install fredapi"
   ]
  },
  {
   "cell_type": "code",
   "execution_count": 3,
   "metadata": {},
   "outputs": [
    {
     "name": "stdout",
     "output_type": "stream",
     "text": [
      "1946-01-01        NaN\n",
      "1946-04-01        NaN\n",
      "1946-07-01        NaN\n",
      "1946-10-01        NaN\n",
      "1947-01-01    243.164\n",
      "dtype: float64\n"
     ]
    }
   ],
   "source": [
    "from fredapi import Fred\n",
    "\n",
    "# Replace 'your_api_key' with your actual FRED API key\n",
    "api_key = '9a8c5dfa8fbbc8da07a3c856449f4175 '\n",
    "\n",
    "# Initialize the Fred object with your API key\n",
    "fred = Fred(api_key=api_key)\n",
    "\n",
    "# Example: Get data for GDP\n",
    "gdp_data = fred.get_series('GDP')\n",
    "\n",
    "\n"
   ]
  },
  {
   "cell_type": "code",
   "execution_count": 4,
   "metadata": {},
   "outputs": [
    {
     "name": "stdout",
     "output_type": "stream",
     "text": [
      "1946-01-01        NaN\n",
      "1946-04-01        NaN\n",
      "1946-07-01        NaN\n",
      "1946-10-01        NaN\n",
      "1947-01-01    243.164\n",
      "1947-04-01    245.968\n",
      "1947-07-01    249.585\n",
      "1947-10-01    259.745\n",
      "1948-01-01    265.742\n",
      "1948-04-01    272.567\n",
      "dtype: float64\n"
     ]
    }
   ],
   "source": [
    "# Print the first few data points\n",
    "print(gdp_data.head(10))"
   ]
  }
 ],
 "metadata": {
  "kernelspec": {
   "display_name": "stat386",
   "language": "python",
   "name": "python3"
  },
  "language_info": {
   "codemirror_mode": {
    "name": "ipython",
    "version": 3
   },
   "file_extension": ".py",
   "mimetype": "text/x-python",
   "name": "python",
   "nbconvert_exporter": "python",
   "pygments_lexer": "ipython3",
   "version": "3.11.5"
  }
 },
 "nbformat": 4,
 "nbformat_minor": 2
}
